{
 "cells": [
  {
   "cell_type": "markdown",
   "metadata": {},
   "source": [
    "## Visualizing meta-learning datasets\n",
    "Showcases the meta-train/val/test datasets and h"
   ]
  },
  {
   "cell_type": "code",
   "execution_count": 1,
   "metadata": {},
   "outputs": [],
   "source": [
    "import os\n",
    "import torch\n",
    "import torch.nn.functional as F\n",
    "from torchvision.transforms import transforms\n",
    "import numpy as np\n",
    "\n",
    "from torchmeta.datasets.helpers import quickdraw\n",
    "from torchmeta.datasets import QuickDraw\n",
    "from torchmeta.utils.data import BatchMetaDataLoader\n",
    "from torchmeta.transforms import Categorical\n",
    "from torchvision.utils import make_grid\n",
    "from matplotlib import pyplot as plt"
   ]
  },
  {
   "cell_type": "code",
   "execution_count": 2,
   "metadata": {},
   "outputs": [],
   "source": [
    "class CategoricalAndLabels(Categorical):\n",
    "    def __call__(self, target):\n",
    "        label, class_augmentation = target\n",
    "        return (self.classes[target], label)"
   ]
  },
  {
   "cell_type": "code",
   "execution_count": 3,
   "metadata": {},
   "outputs": [],
   "source": [
    "train_transform = transforms.Compose([transforms.ToTensor(),\n",
    "                                      transforms.Normalize((0.1307,),(0.3081,))])"
   ]
  },
  {
   "cell_type": "code",
   "execution_count": 4,
   "metadata": {},
   "outputs": [],
   "source": [
    "%matplotlib inline\n",
    "def show(img):\n",
    "    npimg = img.numpy()\n",
    "    plt.imshow(np.transpose(npimg, (1,2,0)), interpolation='nearest')"
   ]
  },
  {
   "cell_type": "code",
   "execution_count": 5,
   "metadata": {},
   "outputs": [
    {
     "name": "stdout",
     "output_type": "stream",
     "text": [
      "2957649120\n"
     ]
    }
   ],
   "source": [
    "train_dataset = quickdraw(folder='/storage/smb79ck2/ndata',\n",
    "                    shots=1,\n",
    "                    ways=5,\n",
    "                    shuffle=True,\n",
    "                    test_shots=1,\n",
    "                    meta_train=True,\n",
    "                    download=False,\n",
    "                    transform=train_transform)\n",
    "print(len(train_dataset))"
   ]
  },
  {
   "cell_type": "code",
   "execution_count": 6,
   "metadata": {},
   "outputs": [
    {
     "name": "stdout",
     "output_type": "stream",
     "text": [
      "2957649120\n"
     ]
    }
   ],
   "source": [
    "train_dataloader = BatchMetaDataLoader(train_dataset,\n",
    "                                 batch_size=1,\n",
    "                                 shuffle=True,\n",
    "                                 num_workers=1)\n",
    "print(len(train_dataloader))"
   ]
  },
  {
   "cell_type": "code",
   "execution_count": 7,
   "metadata": {},
   "outputs": [
    {
     "name": "stdout",
     "output_type": "stream",
     "text": [
      "Train inputs shape: torch.Size([1, 5, 1, 28, 28])\n",
      "Train targets shape: torch.Size([1, 5])\n",
      "tensor([[0, 1, 3, 4, 2]])\n",
      "Test inputs shape: torch.Size([1, 5, 1, 28, 28])\n",
      "Test targets shape: torch.Size([1, 5])\n"
     ]
    }
   ],
   "source": [
    "num_batch = 0\n",
    "for batch in train_dataloader:\n",
    "    if num_batch == 0:\n",
    "        train_inputs, train_targets = batch[\"train\"]\n",
    "        print('Train inputs shape: {0}'.format(train_inputs.shape))    # (1, 5, 1, 28, 28)\n",
    "        print('Train targets shape: {0}'.format(train_targets.shape))  # (1, 5)\n",
    "        print(train_targets)\n",
    "\n",
    "        test_inputs, test_targets = batch[\"test\"]\n",
    "        print('Test inputs shape: {0}'.format(test_inputs.shape))      # (1, 5, 1, 28, 28)\n",
    "        print('Test targets shape: {0}'.format(test_targets.shape))    # (1, 5)\n",
    "        num_batch += 1\n",
    "    else:\n",
    "        break"
   ]
  },
  {
   "cell_type": "code",
   "execution_count": 8,
   "metadata": {},
   "outputs": [
    {
     "name": "stderr",
     "output_type": "stream",
     "text": [
      "Clipping input data to the valid range for imshow with RGB data ([0..1] for floats or [0..255] for integers).\n",
      "Clipping input data to the valid range for imshow with RGB data ([0..1] for floats or [0..255] for integers).\n"
     ]
    },
    {
     "data": {
      "image/png": "[encoded data removed]",
      "text/plain": [
       "<Figure size 432x288 with 1 Axes>"
      ]
     },
     "metadata": {
      "needs_background": "light"
     },
     "output_type": "display_data"
    },
    {
     "data": {
      "image/png": "[encoded data removed]",
      "text/plain": [
       "<Figure size 432x288 with 1 Axes>"
      ]
     },
     "metadata": {
      "needs_background": "light"
     },
     "output_type": "display_data"
    }
   ],
   "source": [
    "for task_id, (train_inputs, train_targets, test_inputs, test_targets) in enumerate(zip(*batch['train'], *batch['test'])):\n",
    "    plt.figure(1)\n",
    "    plt.title('support set: ' + str(train_targets.numpy()))\n",
    "    show(make_grid(train_inputs, padding=20))\n",
    "    plt.figure(2)\n",
    "    plt.title('query set: ' + str(test_targets.numpy()))\n",
    "    show(make_grid(test_inputs, padding=20))"
   ]
  },
  {
   "cell_type": "code",
   "execution_count": 9,
   "metadata": {},
   "outputs": [
    {
     "name": "stdout",
     "output_type": "stream",
     "text": [
      "10735296\n"
     ]
    }
   ],
   "source": [
    "val_dataset = quickdraw(folder='/storage/smb79ck2/ndata',\n",
    "                    shots=1,\n",
    "                    ways=5,\n",
    "                    shuffle=True,\n",
    "                    test_shots=1,\n",
    "                    meta_val=True,\n",
    "                    download=False,\n",
    "                    transform=train_transform)\n",
    "print(len(val_dataset))"
   ]
  },
  {
   "cell_type": "code",
   "execution_count": 10,
   "metadata": {},
   "outputs": [
    {
     "name": "stdout",
     "output_type": "stream",
     "text": [
      "10735296\n"
     ]
    }
   ],
   "source": [
    "val_dataloader = BatchMetaDataLoader(val_dataset,\n",
    "                                 batch_size=1,\n",
    "                                 shuffle=True,\n",
    "                                 num_workers=1)\n",
    "print(len(val_dataloader))"
   ]
  },
  {
   "cell_type": "code",
   "execution_count": 11,
   "metadata": {},
   "outputs": [
    {
     "name": "stdout",
     "output_type": "stream",
     "text": [
      "Train inputs shape: torch.Size([1, 5, 1, 28, 28])\n",
      "Train targets shape: torch.Size([1, 5])\n",
      "Test inputs shape: torch.Size([1, 5, 1, 28, 28])\n",
      "Test targets shape: torch.Size([1, 5])\n"
     ]
    }
   ],
   "source": [
    "num_batch = 0\n",
    "for batch in val_dataloader:\n",
    "    if num_batch == 0:\n",
    "        train_inputs, train_targets = batch[\"train\"]\n",
    "        print('Train inputs shape: {0}'.format(train_inputs.shape))    # (1, 5, 1, 28, 28)\n",
    "        print('Train targets shape: {0}'.format(train_targets.shape))  # (1, 5)\n",
    "\n",
    "        test_inputs, test_targets = batch[\"test\"]\n",
    "        print('Test inputs shape: {0}'.format(test_inputs.shape))      # (1, 5, 1, 28, 28)\n",
    "        print('Test targets shape: {0}'.format(test_targets.shape))    # (1, 5)\n",
    "        num_batch += 1\n",
    "    else:\n",
    "        break"
   ]
  },
  {
   "cell_type": "code",
   "execution_count": 12,
   "metadata": {},
   "outputs": [
    {
     "name": "stderr",
     "output_type": "stream",
     "text": [
      "Clipping input data to the valid range for imshow with RGB data ([0..1] for floats or [0..255] for integers).\n",
      "Clipping input data to the valid range for imshow with RGB data ([0..1] for floats or [0..255] for integers).\n"
     ]
    },
    {
     "data": {
      "image/png": "[encoded data removed]",
      "text/plain": [
       "<Figure size 432x288 with 1 Axes>"
      ]
     },
     "metadata": {
      "needs_background": "light"
     },
     "output_type": "display_data"
    },
    {
     "data": {
      "image/png": "[encoded data removed]",
      "text/plain": [
       "<Figure size 432x288 with 1 Axes>"
      ]
     },
     "metadata": {
      "needs_background": "light"
     },
     "output_type": "display_data"
    }
   ],
   "source": [
    "for task_id, (train_inputs, train_targets, test_inputs, test_targets) in enumerate(zip(*batch['train'], *batch['test'])):\n",
    "    plt.figure(1)\n",
    "    plt.title('support set: ' + str(train_targets.numpy()))\n",
    "    show(make_grid(train_inputs, padding=20))\n",
    "    plt.figure(2)\n",
    "    plt.title('query set: ' + str(test_targets.numpy()))\n",
    "    show(make_grid(test_inputs, padding=20))"
   ]
  },
  {
   "cell_type": "code",
   "execution_count": 13,
   "metadata": {},
   "outputs": [
    {
     "name": "stdout",
     "output_type": "stream",
     "text": [
      "10735296\n"
     ]
    }
   ],
   "source": [
    "test_dataset = quickdraw(folder='/storage/smb79ck2/ndata',\n",
    "                    shots=1,\n",
    "                    ways=5,\n",
    "                    shuffle=True,\n",
    "                    test_shots=1,\n",
    "                    meta_test=True,\n",
    "                    download=False,\n",
    "                    transform=train_transform)\n",
    "print(len(test_dataset))"
   ]
  },
  {
   "cell_type": "code",
   "execution_count": 14,
   "metadata": {},
   "outputs": [
    {
     "name": "stdout",
     "output_type": "stream",
     "text": [
      "5367648\n"
     ]
    }
   ],
   "source": [
    "test_dataloader = BatchMetaDataLoader(test_dataset,\n",
    "                                 batch_size=2,\n",
    "                                 shuffle=True,\n",
    "                                 num_workers=1)\n",
    "print(len(test_dataloader))"
   ]
  },
  {
   "cell_type": "code",
   "execution_count": 15,
   "metadata": {},
   "outputs": [
    {
     "name": "stdout",
     "output_type": "stream",
     "text": [
      "Train inputs shape: torch.Size([2, 5, 1, 28, 28])\n",
      "Train targets shape: torch.Size([2, 5])\n",
      "Test inputs shape: torch.Size([2, 5, 1, 28, 28])\n",
      "Test targets shape: torch.Size([2, 5])\n"
     ]
    }
   ],
   "source": [
    "num_batch = 0\n",
    "for batch in test_dataloader:\n",
    "    if num_batch == 0:\n",
    "        train_inputs, train_targets = batch[\"train\"]\n",
    "        print('Train inputs shape: {0}'.format(train_inputs.shape))    # (1, 5, 1, 28, 28)\n",
    "        print('Train targets shape: {0}'.format(train_targets.shape))  # (1, 5)\n",
    "\n",
    "        test_inputs, test_targets = batch[\"test\"]\n",
    "        print('Test inputs shape: {0}'.format(test_inputs.shape))      # (1, 5, 1, 28, 28)\n",
    "        print('Test targets shape: {0}'.format(test_targets.shape))    # (1, 5)\n",
    "        num_batch += 1\n",
    "    else:\n",
    "        break"
   ]
  },
  {
   "cell_type": "code",
   "execution_count": 16,
   "metadata": {},
   "outputs": [
    {
     "data": {
      "text/plain": [
       "torch.Size([2, 5, 1, 28, 28])"
      ]
     },
     "execution_count": 16,
     "metadata": {},
     "output_type": "execute_result"
    }
   ],
   "source": [
    "batch['train'][0].shape"
   ]
  },
  {
   "cell_type": "code",
   "execution_count": 17,
   "metadata": {},
   "outputs": [],
   "source": [
    "%matplotlib inline\n",
    "def show(img, fig):\n",
    "    npimg = img.numpy()\n",
    "    fig.imshow(np.transpose(npimg, (1,2,0)), interpolation='nearest')"
   ]
  },
  {
   "cell_type": "code",
   "execution_count": 18,
   "metadata": {},
   "outputs": [
    {
     "name": "stderr",
     "output_type": "stream",
     "text": [
      "Clipping input data to the valid range for imshow with RGB data ([0..1] for floats or [0..255] for integers).\n",
      "Clipping input data to the valid range for imshow with RGB data ([0..1] for floats or [0..255] for integers).\n",
      "Clipping input data to the valid range for imshow with RGB data ([0..1] for floats or [0..255] for integers).\n",
      "Clipping input data to the valid range for imshow with RGB data ([0..1] for floats or [0..255] for integers).\n"
     ]
    },
    {
     "data": {
      "image/png": "[encoded data removed]",
      "text/plain": [
       "<Figure size 432x288 with 4 Axes>"
      ]
     },
     "metadata": {},
     "output_type": "display_data"
    }
   ],
   "source": [
    "import matplotlib.gridspec as gridspec\n",
    "fig = plt.figure(constrained_layout=True) #, figsize=(5, 20))\n",
    "spec = gridspec.GridSpec(ncols=2, nrows=2, figure=fig)\n",
    "i = 0\n",
    "\n",
    "for task_id, (train_inputs, train_targets, test_inputs, test_targets) in enumerate(zip(*batch['train'], *batch['test'])):\n",
    "    f_ax1 = fig.add_subplot(spec[i, 0], xticks=[], yticks=[])\n",
    "    f_ax1.set_title('support set: ' + str(train_targets.numpy()))\n",
    "    f_ax2 = fig.add_subplot(spec[i, 1], xticks=[], yticks=[])\n",
    "    f_ax2.set_title('query set: ' + str(test_targets.numpy()))\n",
    "\n",
    "    show(make_grid(train_inputs, padding=20), f_ax1)\n",
    "    show(make_grid(test_inputs, padding=20), f_ax2)\n",
    "\n",
    "    i += 1"
   ]
  },
  {
   "cell_type": "code",
   "execution_count": null,
   "metadata": {},
   "outputs": [],
   "source": []
  }
 ],
 "metadata": {
  "kernelspec": {
   "display_name": "Python [conda env:meta_env]",
   "language": "python",
   "name": "conda-env-meta_env-py"
  },
  "language_info": {
   "codemirror_mode": {
    "name": "ipython",
    "version": 3
   },
   "file_extension": ".py",
   "mimetype": "text/x-python",
   "name": "python",
   "nbconvert_exporter": "python",
   "pygments_lexer": "ipython3",
   "version": "3.7.7"
  }
 },
 "nbformat": 4,
 "nbformat_minor": 4
}
